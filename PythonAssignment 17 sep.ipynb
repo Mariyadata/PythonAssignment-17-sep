{
 "cells": [
  {
   "cell_type": "code",
   "execution_count": 1,
   "id": "088f01f2-bae4-4cbf-bc23-47db44281303",
   "metadata": {},
   "outputs": [
    {
     "name": "stdout",
     "output_type": "stream",
     "text": [
      "1\n",
      "2\n",
      "3\n",
      "4\n",
      "5\n",
      "6\n",
      "7\n",
      "8\n",
      "9\n",
      "10\n"
     ]
    }
   ],
   "source": [
    "for num in range(1, 11):\n",
    "    print(num)\n",
    "\n"
   ]
  },
  {
   "cell_type": "code",
   "execution_count": 2,
   "id": "4e951d80-e2f4-44d5-978f-5a82a6e962b4",
   "metadata": {},
   "outputs": [
    {
     "ename": "SyntaxError",
     "evalue": "invalid syntax (2041271693.py, line 1)",
     "output_type": "error",
     "traceback": [
      "\u001b[0;36m  Cell \u001b[0;32mIn[2], line 1\u001b[0;36m\u001b[0m\n\u001b[0;31m    For Loop:\u001b[0m\n\u001b[0m        ^\u001b[0m\n\u001b[0;31mSyntaxError\u001b[0m\u001b[0;31m:\u001b[0m invalid syntax\n"
     ]
    }
   ],
   "source": [
    "For Loop:\n",
    "\n",
    "A for loop is typically used when you know the number of iterations or when you want to iterate over a sequence (like a list, tuple, string, or range).\n",
    "It iterates over a sequence of elements one by one and executes the block of code inside the loop for each element.\n",
    "While Loop:\n",
    "\n",
    "A while loop is used when you want to repeat a block of code as long as a condition is true.\n",
    "It continues iterating until the condition becomes false."
   ]
  },
  {
   "cell_type": "code",
   "execution_count": 3,
   "id": "28ca731f-358f-4c95-8f0a-bdee05435568",
   "metadata": {},
   "outputs": [
    {
     "name": "stdout",
     "output_type": "stream",
     "text": [
      "The sum of numbers from 1 to 100 is: 5050\n"
     ]
    }
   ],
   "source": [
    "sum_of_numbers = 0\n",
    "\n",
    "for num in range(1, 101):\n",
    "    sum_of_numbers += num\n",
    "\n",
    "print(\"The sum of numbers from 1 to 100 is:\", sum_of_numbers)\n"
   ]
  },
  {
   "cell_type": "code",
   "execution_count": 5,
   "id": "9536a019-9df1-4184-8f9e-c04391a708ee",
   "metadata": {},
   "outputs": [
    {
     "name": "stdout",
     "output_type": "stream",
     "text": [
      "The product of all elements in the list is: 120\n"
     ]
    }
   ],
   "source": [
    "my_list = [1, 2, 3, 4, 5]\n",
    "product = 1\n",
    "\n",
    "for num in my_list:\n",
    "    product *= num\n",
    "\n",
    "print(\"The product of all elements in the list is:\", product)\n"
   ]
  },
  {
   "cell_type": "code",
   "execution_count": 6,
   "id": "b999def6-fa39-4fd8-9c04-7c27b4d289d5",
   "metadata": {},
   "outputs": [
    {
     "name": "stdout",
     "output_type": "stream",
     "text": [
      "2\n",
      "4\n",
      "6\n",
      "8\n",
      "10\n",
      "12\n",
      "14\n",
      "16\n",
      "18\n",
      "20\n"
     ]
    }
   ],
   "source": [
    "for num in range(2, 21, 2):\n",
    "    print(num)\n"
   ]
  },
  {
   "cell_type": "code",
   "execution_count": 7,
   "id": "8d9cb0eb-d381-4bdd-9633-f1b3196f01d3",
   "metadata": {},
   "outputs": [
    {
     "name": "stdin",
     "output_type": "stream",
     "text": [
      "Enter a number:  5\n"
     ]
    },
    {
     "name": "stdout",
     "output_type": "stream",
     "text": [
      "Factorial of 5 is: 120\n"
     ]
    }
   ],
   "source": [
    "def factorial(n):\n",
    "    if n < 0:\n",
    "        return \"Factorial is not defined for negative numbers\"\n",
    "    elif n == 0:\n",
    "        return 1\n",
    "    else:\n",
    "        result = 1\n",
    "        for i in range(1, n + 1):\n",
    "            result *= i\n",
    "        return result\n",
    "\n",
    "\n",
    "number = int(input(\"Enter a number: \"))\n",
    "print(\"Factorial of\", number, \"is:\", factorial(number))\n"
   ]
  },
  {
   "cell_type": "code",
   "execution_count": 8,
   "id": "2304e439-342f-4239-bc3b-aca022293b81",
   "metadata": {},
   "outputs": [
    {
     "name": "stdout",
     "output_type": "stream",
     "text": [
      "H\n",
      "e\n",
      "l\n",
      "l\n",
      "o\n",
      ",\n",
      " \n",
      "w\n",
      "o\n",
      "r\n",
      "l\n",
      "d\n",
      "!\n"
     ]
    }
   ],
   "source": [
    "my_string = \"Hello, world!\"\n",
    "\n",
    "for char in my_string:\n",
    "    print(char)\n"
   ]
  },
  {
   "cell_type": "code",
   "execution_count": 9,
   "id": "a1391447-42da-4670-847f-00ed527ae560",
   "metadata": {},
   "outputs": [
    {
     "name": "stdout",
     "output_type": "stream",
     "text": [
      "The largest number in the list is: 15\n"
     ]
    }
   ],
   "source": [
    "def find_largest_number(lst):\n",
    "    if not lst:\n",
    "        return \"List is empty\"\n",
    "    \n",
    "    largest = lst[0]\n",
    "    for num in lst:\n",
    "        if num > largest:\n",
    "            largest = num\n",
    "    return largest\n",
    "\n",
    "my_list = [5, 10, 3, 8, 15, 7]\n",
    "print(\"The largest number in the list is:\", find_largest_number(my_list))\n"
   ]
  },
  {
   "cell_type": "code",
   "execution_count": 10,
   "id": "8683889c-be00-4a81-95ca-93759313948c",
   "metadata": {},
   "outputs": [
    {
     "name": "stdin",
     "output_type": "stream",
     "text": [
      "Enter the limit for Fibonacci sequence:  8\n"
     ]
    },
    {
     "name": "stdout",
     "output_type": "stream",
     "text": [
      "Fibonacci sequence up to 8 is: [0, 1, 1, 2, 3, 5, 8]\n"
     ]
    }
   ],
   "source": [
    "def fibonacci(limit):\n",
    "    fib_sequence = [0, 1]\n",
    "\n",
    "    for i in range(2, limit):\n",
    "        next_num = fib_sequence[-1] + fib_sequence[-2]\n",
    "        if next_num <= limit:\n",
    "            fib_sequence.append(next_num)\n",
    "        else:\n",
    "            break\n",
    "\n",
    "    return fib_sequence\n",
    "\n",
    "\n",
    "limit = int(input(\"Enter the limit for Fibonacci sequence: \"))\n",
    "sequence = fibonacci(limit)\n",
    "print(\"Fibonacci sequence up to\", limit, \"is:\", sequence)\n"
   ]
  },
  {
   "cell_type": "code",
   "execution_count": 11,
   "id": "8717b379-2774-4262-bf52-74398dbbef6e",
   "metadata": {},
   "outputs": [
    {
     "name": "stdin",
     "output_type": "stream",
     "text": [
      "Enter a string:  mariya is learning\n"
     ]
    },
    {
     "name": "stdout",
     "output_type": "stream",
     "text": [
      "Number of vowels in the given string: 7\n"
     ]
    }
   ],
   "source": [
    "def count_vowels(string):\n",
    "    vowels = \"aeiouAEIOU\"\n",
    "    count = 0\n",
    "\n",
    "    for char in string:\n",
    "        if char in vowels:\n",
    "            count += 1\n",
    "\n",
    "    return count\n",
    "\n",
    "input_string = input(\"Enter a string: \")\n",
    "print(\"Number of vowels in the given string:\", count_vowels(input_string))\n"
   ]
  },
  {
   "cell_type": "code",
   "execution_count": 12,
   "id": "0caaf070-ca56-41dc-a379-51a795051e5d",
   "metadata": {},
   "outputs": [
    {
     "name": "stdout",
     "output_type": "stream",
     "text": [
      "Original list: [1, 2, 3, 4, 5]\n",
      "Reversed list: [5, 4, 3, 2, 1]\n"
     ]
    }
   ],
   "source": [
    "def reverse_list(lst):\n",
    "    reversed_list = []\n",
    "\n",
    "    for i in range(len(lst) - 1, -1, -1):\n",
    "        reversed_list.append(lst[i])\n",
    "\n",
    "    return reversed_list\n",
    "\n",
    "my_list = [1, 2, 3, 4, 5]\n",
    "reversed_list = reverse_list(my_list)\n",
    "print(\"Original list:\", my_list)\n",
    "print(\"Reversed list:\", reversed_list)\n"
   ]
  },
  {
   "cell_type": "code",
   "execution_count": 13,
   "id": "6932a960-5229-4ab0-83f7-dbbf9b9b6ca4",
   "metadata": {},
   "outputs": [
    {
     "name": "stdout",
     "output_type": "stream",
     "text": [
      "Common elements between the two lists: [4, 5]\n"
     ]
    }
   ],
   "source": [
    "def find_common_elements(list1, list2):\n",
    "    common_elements = []\n",
    "\n",
    "    for item1 in list1:\n",
    "        for item2 in list2:\n",
    "            if item1 == item2:\n",
    "                common_elements.append(item1)\n",
    "\n",
    "    return common_elements\n",
    "list1 = [1, 2, 3, 4, 5]\n",
    "list2 = [4, 5, 6, 7, 8]\n",
    "common_elements = find_common_elements(list1, list2)\n",
    "print(\"Common elements between the two lists:\", common_elements)\n"
   ]
  },
  {
   "cell_type": "code",
   "execution_count": 14,
   "id": "c2a03195-680b-4aed-a341-a821a69a8654",
   "metadata": {},
   "outputs": [
    {
     "name": "stdout",
     "output_type": "stream",
     "text": [
      "Key: a , Value: 1\n",
      "Key: b , Value: 2\n",
      "Key: c , Value: 3\n"
     ]
    }
   ],
   "source": [
    "my_dict = {'a': 1, 'b': 2, 'c': 3}\n",
    "\n",
    "# Iterating through keys and values\n",
    "for key, value in my_dict.items():\n",
    "    print(\"Key:\", key, \", Value:\", value)\n"
   ]
  },
  {
   "cell_type": "code",
   "execution_count": 15,
   "id": "07bc23fd-6858-4c5e-bd70-3eae34849dae",
   "metadata": {},
   "outputs": [
    {
     "name": "stdin",
     "output_type": "stream",
     "text": [
      "Enter the first number:  2\n",
      "Enter the second number:  5\n"
     ]
    },
    {
     "name": "stdout",
     "output_type": "stream",
     "text": [
      "The GCD of 2 and 5 is: 1\n"
     ]
    }
   ],
   "source": [
    "def gcd(num1, num2):\n",
    "    \n",
    "    minimum = min(num1, num2)\n",
    "    \n",
    "    \n",
    "    gcd_value = 1\n",
    "    \n",
    "    for i in range(1, minimum + 1):\n",
    "        if num1 % i == 0 and num2 % i == 0:\n",
    "            gcd_value = i\n",
    "    \n",
    "    return gcd_value\n",
    "\n",
    "num1 = int(input(\"Enter the first number: \"))\n",
    "num2 = int(input(\"Enter the second number: \"))\n",
    "print(\"The GCD of\", num1, \"and\", num2, \"is:\", gcd(num1, num2))\n"
   ]
  },
  {
   "cell_type": "code",
   "execution_count": 16,
   "id": "c8e2f2b8-0df1-4df4-a56f-e0b720065127",
   "metadata": {},
   "outputs": [
    {
     "name": "stdin",
     "output_type": "stream",
     "text": [
      "Enter a string:  mariya is dancing\n"
     ]
    },
    {
     "name": "stdout",
     "output_type": "stream",
     "text": [
      "The string is not a palindrome.\n"
     ]
    }
   ],
   "source": [
    "def is_palindrome(s):\n",
    "    \n",
    "    s = s.lower().replace(\" \", \"\")\n",
    "    \n",
    "    length = len(s)\n",
    "    \n",
    "    \n",
    "    for i in range(length // 2):\n",
    "        \n",
    "        if s[i] != s[length - 1 - i]:\n",
    "            return False\n",
    "    \n",
    "    return True\n",
    "input_string = input(\"Enter a string: \")\n",
    "if is_palindrome(input_string):\n",
    "    print(\"The string is a palindrome.\")\n",
    "else:\n",
    "    print(\"The string is not a palindrome.\")\n"
   ]
  },
  {
   "cell_type": "code",
   "execution_count": 17,
   "id": "c2886d51-674d-4277-a40e-27b5b2d245c0",
   "metadata": {},
   "outputs": [
    {
     "name": "stdout",
     "output_type": "stream",
     "text": [
      "Original list: [1, 2, 2, 3, 4, 4, 5, 5, 6]\n",
      "List after removing duplicates: [1, 2, 3, 4, 5, 6]\n"
     ]
    }
   ],
   "source": [
    "def remove_duplicates(lst):\n",
    "\n",
    "    unique_list = []\n",
    "\n",
    "    for item in lst:\n",
    "    \n",
    "        if item not in unique_list:\n",
    "            unique_list.append(item)\n",
    "    \n",
    "    return unique_list\n",
    "\n",
    "my_list = [1, 2, 2, 3, 4, 4, 5, 5, 6]\n",
    "print(\"Original list:\", my_list)\n",
    "print(\"List after removing duplicates:\", remove_duplicates(my_list))\n"
   ]
  },
  {
   "cell_type": "code",
   "execution_count": 18,
   "id": "2834b6c0-6172-4212-abcb-94f577051a7d",
   "metadata": {},
   "outputs": [
    {
     "name": "stdin",
     "output_type": "stream",
     "text": [
      "Enter a sentence:  mariya just came back\n"
     ]
    },
    {
     "name": "stdout",
     "output_type": "stream",
     "text": [
      "Number of words in the sentence: 4\n"
     ]
    }
   ],
   "source": [
    "def count_words(sentence):\n",
    "    \n",
    "    word_count = 0\n",
    "    \n",
    "    for char in sentence:\n",
    "\n",
    "        if char == ' ':\n",
    "            word_count += 1\n",
    "    \n",
    "    \n",
    "    word_count += 1\n",
    "    \n",
    "    return word_count\n",
    "\n",
    "\n",
    "input_sentence = input(\"Enter a sentence: \")\n",
    "print(\"Number of words in the sentence:\", count_words(input_sentence))\n"
   ]
  },
  {
   "cell_type": "code",
   "execution_count": 19,
   "id": "c2c1a558-b686-4bab-ba18-b08579c73c9f",
   "metadata": {},
   "outputs": [
    {
     "name": "stdout",
     "output_type": "stream",
     "text": [
      "The sum of all odd numbers from 1 to 50 is: 625\n"
     ]
    }
   ],
   "source": [
    "sum_of_odd_numbers = 0\n",
    "\n",
    "for num in range(1, 51, 2):\n",
    "    sum_of_odd_numbers += num\n",
    "\n",
    "print(\"The sum of all odd numbers from 1 to 50 is:\", sum_of_odd_numbers)\n"
   ]
  },
  {
   "cell_type": "code",
   "execution_count": 20,
   "id": "da4f3961-3ce0-49ba-b180-a3bfb7f5a046",
   "metadata": {},
   "outputs": [
    {
     "name": "stdin",
     "output_type": "stream",
     "text": [
      "Enter a year:  2012\n"
     ]
    },
    {
     "name": "stdout",
     "output_type": "stream",
     "text": [
      "2012 is a leap year.\n"
     ]
    }
   ],
   "source": [
    "def is_leap_year(year):\n",
    "    \n",
    "    if year % 4 == 0:\n",
    "        \n",
    "        if year % 100 == 0:\n",
    "            if year % 400 == 0:\n",
    "                return True\n",
    "            else:\n",
    "                return False\n",
    "        else:\n",
    "            return True\n",
    "    else:\n",
    "        return False\n",
    "\n",
    "\n",
    "year = int(input(\"Enter a year: \"))\n",
    "if is_leap_year(year):\n",
    "    print(year, \"is a leap year.\")\n",
    "else:\n",
    "    print(year, \"is not a leap year.\")\n"
   ]
  },
  {
   "cell_type": "code",
   "execution_count": 21,
   "id": "8e876b42-b372-4582-a535-639687e25b9b",
   "metadata": {},
   "outputs": [
    {
     "name": "stdin",
     "output_type": "stream",
     "text": [
      "Enter a number:  25\n"
     ]
    },
    {
     "name": "stdout",
     "output_type": "stream",
     "text": [
      "Square root of 25.0 is approximately: 5.0\n"
     ]
    }
   ],
   "source": [
    "def square_root(number, iterations=100):\n",
    "    guess = number / 2  \n",
    "    for _ in range(iterations):\n",
    "        guess = (guess + number / guess) / 2  \n",
    "    return guess\n",
    "\n",
    "\n",
    "number = float(input(\"Enter a number: \"))\n",
    "if number < 0:\n",
    "    print(\"Square root is not defined for negative numbers.\")\n",
    "else:\n",
    "    print(\"Square root of\", number, \"is approximately:\", square_root(number))\n"
   ]
  },
  {
   "cell_type": "code",
   "execution_count": 22,
   "id": "cd65ef50-4846-444a-a0c2-039b57fe92c2",
   "metadata": {},
   "outputs": [
    {
     "name": "stdin",
     "output_type": "stream",
     "text": [
      "Enter the first number:  3\n",
      "Enter the second number:  8\n"
     ]
    },
    {
     "name": "stdout",
     "output_type": "stream",
     "text": [
      "The Least Common Multiple of 3 and 8 is: 24\n"
     ]
    }
   ],
   "source": [
    "def gcd(x, y):\n",
    "    while(y):\n",
    "        x, y = y, x % y\n",
    "    return x\n",
    "\n",
    "def lcm(x, y):\n",
    "    return (x * y) // gcd(x, y)\n",
    "\n",
    "num1 = int(input(\"Enter the first number: \"))\n",
    "num2 = int(input(\"Enter the second number: \"))\n",
    "\n",
    "lcm_value = lcm(num1, num2)\n",
    "print(\"The Least Common Multiple of\", num1, \"and\", num2, \"is:\", lcm_value)\n"
   ]
  },
  {
   "cell_type": "code",
   "execution_count": 23,
   "id": "e51c0d9f-0ca4-4914-a12a-d30c74c453af",
   "metadata": {},
   "outputs": [
    {
     "name": "stdin",
     "output_type": "stream",
     "text": [
      "Enter a number:  5\n"
     ]
    },
    {
     "name": "stdout",
     "output_type": "stream",
     "text": [
      "5 is odd.\n"
     ]
    }
   ],
   "source": [
    "def check_even_odd(number):\n",
    "    if number % 2 == 0:\n",
    "        print(f\"{number} is even.\")\n",
    "    else:\n",
    "        print(f\"{number} is odd.\")\n",
    "\n",
    "\n",
    "num = int(input(\"Enter a number: \"))\n",
    "check_even_odd(num)\n"
   ]
  },
  {
   "cell_type": "code",
   "execution_count": 24,
   "id": "d4d87b8f-1a93-490f-99d0-fcb99a4433f0",
   "metadata": {},
   "outputs": [
    {
     "name": "stdin",
     "output_type": "stream",
     "text": [
      "Enter a number:  8\n"
     ]
    },
    {
     "name": "stdout",
     "output_type": "stream",
     "text": [
      "8.0 is positive.\n"
     ]
    }
   ],
   "source": [
    "def check_number(num):\n",
    "    if num > 0:\n",
    "        print(f\"{num} is positive.\")\n",
    "    elif \n",
    "    num < 0:\n",
    "        print(f\"{num} is negative.\")\n",
    "    else:\n",
    "        print(\"The number is zero.\")\n",
    "\n",
    "number = float(input(\"Enter a number: \"))\n",
    "check_number(number)\n"
   ]
  },
  {
   "cell_type": "code",
   "execution_count": 25,
   "id": "c3a4808a-92fd-47be-9e49-72233b2b88e1",
   "metadata": {},
   "outputs": [
    {
     "name": "stdin",
     "output_type": "stream",
     "text": [
      "Enter student's score:  66\n"
     ]
    },
    {
     "name": "stdout",
     "output_type": "stream",
     "text": [
      "The student's grade is D.\n"
     ]
    }
   ],
   "source": [
    "def calculate_grade(score):\n",
    "    if score >= 90:\n",
    "        grade = 'A'\n",
    "    else:\n",
    "        if score >= 80:\n",
    "            grade = 'B'\n",
    "        else:\n",
    "            if score >= 70:\n",
    "                grade = 'C'\n",
    "            else:\n",
    "                if score >= 60:\n",
    "                    grade = 'D'\n",
    "                else:\n",
    "                    grade = 'F'\n",
    "    return grade\n",
    "\n",
    "student_score = int(input(\"Enter student's score: \"))\n",
    "\n",
    "student_grade = calculate_grade(student_score)\n",
    "print(f\"The student's grade is {student_grade}.\")\n"
   ]
  },
  {
   "cell_type": "code",
   "execution_count": 26,
   "id": "fd12c8ec-3927-44c2-87d6-7d30a8f54904",
   "metadata": {},
   "outputs": [
    {
     "name": "stdin",
     "output_type": "stream",
     "text": [
      "Enter the first number:  6\n",
      "Enter the second number:  9\n",
      "Enter the third number:  4\n"
     ]
    },
    {
     "name": "stdout",
     "output_type": "stream",
     "text": [
      "The largest number is: 9.0\n"
     ]
    }
   ],
   "source": [
    "def find_largest_number(num1, num2, num3):\n",
    "    if num1 >= num2 and num1 >= num3:\n",
    "        largest = num1\n",
    "    elif num2 >= num1 and num2 >= num3:\n",
    "        largest = num2\n",
    "    else:\n",
    "        largest = num3\n",
    "    return largest\n",
    "\n",
    "num1 = float(input(\"Enter the first number: \"))\n",
    "num2 = float(input(\"Enter the second number: \"))\n",
    "num3 = float(input(\"Enter the third number: \"))\n",
    "\n",
    "largest_number = find_largest_number(num1, num2, num3)\n",
    "print(f\"The largest number is: {largest_number}\")\n"
   ]
  },
  {
   "cell_type": "code",
   "execution_count": 27,
   "id": "82614de2-b298-4198-9085-a0807cbddb7e",
   "metadata": {},
   "outputs": [
    {
     "name": "stdin",
     "output_type": "stream",
     "text": [
      "Enter a number:  6\n"
     ]
    },
    {
     "name": "stdout",
     "output_type": "stream",
     "text": [
      "The absolute value of 6.0 is: 6.0\n"
     ]
    }
   ],
   "source": [
    "def absolute_value(num):\n",
    "    if num >= 0:\n",
    "        return num\n",
    "    else:\n",
    "        return -num\n",
    "\n",
    "number = float(input(\"Enter a number: \"))\n",
    "\n",
    "abs_value = absolute_value(number)\n",
    "print(f\"The absolute value of {number} is: {abs_value}\")\n"
   ]
  },
  {
   "cell_type": "code",
   "execution_count": 28,
   "id": "5fd06666-a5ea-4c29-b2f6-22c2746bd7a5",
   "metadata": {},
   "outputs": [
    {
     "name": "stdin",
     "output_type": "stream",
     "text": [
      "Enter a character:  mariya\n"
     ]
    },
    {
     "name": "stdout",
     "output_type": "stream",
     "text": [
      "The character 'mariya' is a consonant.\n"
     ]
    }
   ],
   "source": [
    "def check_vowel_or_consonant(char):\n",
    "    \n",
    "    char = char.lower()\n",
    "    \n",
    "    if char in 'aeiou':\n",
    "        print(f\"The character '{char}' is a vowel.\")\n",
    "    elif char.isalpha():\n",
    "        print(f\"The character '{char}' is a consonant.\")\n",
    "    else:\n",
    "        print(f\"The character '{char}' is not a letter.\")\n",
    "\n",
    "character = input(\"Enter a character: \")\n",
    "\n",
    "check_vowel_or_consonant(character)\n"
   ]
  },
  {
   "cell_type": "code",
   "execution_count": 29,
   "id": "730c916e-7e43-4b5e-b078-9461f8626b9f",
   "metadata": {},
   "outputs": [
    {
     "name": "stdin",
     "output_type": "stream",
     "text": [
      "Enter your age:  23\n"
     ]
    },
    {
     "name": "stdout",
     "output_type": "stream",
     "text": [
      "You are eligible to vote.\n"
     ]
    }
   ],
   "source": [
    "def check_voting_eligibility(age):\n",
    "    if age >= 18:\n",
    "        print(\"You are eligible to vote.\")\n",
    "    else:\n",
    "        print(\"You are not eligible to vote yet.\")\n",
    "\n",
    "age = int(input(\"Enter your age: \"))\n",
    "\n",
    "check_voting_eligibility(age)\n"
   ]
  },
  {
   "cell_type": "code",
   "execution_count": 30,
   "id": "55bf0b76-ba15-4d9e-9321-7502cc2121aa",
   "metadata": {},
   "outputs": [
    {
     "name": "stdin",
     "output_type": "stream",
     "text": [
      "Enter the purchase amount:  600\n"
     ]
    },
    {
     "name": "stdout",
     "output_type": "stream",
     "text": [
      "The discount amount is: $30.00\n"
     ]
    }
   ],
   "source": [
    "def calculate_discount(purchase_amount):\n",
    "    if purchase_amount >= 1000:\n",
    "        discount = 0.1 * purchase_amount  \n",
    "    elif purchase_amount >= 500:\n",
    "        discount = 0.05 * purchase_amount \n",
    "    else:\n",
    "        discount = 0  \n",
    "    return discount\n",
    "\n",
    "\n",
    "amount = float(input(\"Enter the purchase amount: \"))\n",
    "\n",
    "\n",
    "discount_amount = calculate_discount(amount)\n",
    "\n",
    "\n",
    "print(f\"The discount amount is: ${discount_amount:.2f}\")\n"
   ]
  },
  {
   "cell_type": "code",
   "execution_count": 31,
   "id": "3982d3d7-02ba-4cbd-8551-ab76c3151f7a",
   "metadata": {},
   "outputs": [
    {
     "name": "stdin",
     "output_type": "stream",
     "text": [
      "Enter a number:  90\n",
      "Enter the lower bound of the range:  30\n",
      "Enter the upper bound of the range:  50\n"
     ]
    },
    {
     "name": "stdout",
     "output_type": "stream",
     "text": [
      "90.0 is not within the range [30.0, 50.0].\n"
     ]
    }
   ],
   "source": [
    "def check_within_range(number, lower_bound, upper_bound):\n",
    "    if lower_bound <= number <= upper_bound:\n",
    "        print(f\"{number} is within the range [{lower_bound}, {upper_bound}].\")\n",
    "    else:\n",
    "        print(f\"{number} is not within the range [{lower_bound}, {upper_bound}].\")\n",
    "\n",
    "\n",
    "num = float(input(\"Enter a number: \"))\n",
    "lower_bound = float(input(\"Enter the lower bound of the range: \"))\n",
    "upper_bound = float(input(\"Enter the upper bound of the range: \"))\n",
    "\n",
    "check_within_range(num, lower_bound, upper_bound)\n"
   ]
  },
  {
   "cell_type": "code",
   "execution_count": 32,
   "id": "fb1e0f56-302b-4c0a-b534-6544f59c32b9",
   "metadata": {},
   "outputs": [
    {
     "name": "stdin",
     "output_type": "stream",
     "text": [
      "Enter the student's score:  90\n"
     ]
    },
    {
     "name": "stdout",
     "output_type": "stream",
     "text": [
      "The student's grade is: A\n"
     ]
    }
   ],
   "source": [
    "def calculate_grade(score):\n",
    "    if score >= 90:\n",
    "        grade = 'A'\n",
    "    elif score >= 80:\n",
    "        grade = 'B'\n",
    "    elif score >= 70:\n",
    "        grade = 'C'\n",
    "    elif score >= 60:\n",
    "        grade = 'D'\n",
    "    else:\n",
    "        grade = 'F'\n",
    "    return grade\n",
    "\n",
    "score = float(input(\"Enter the student's score: \"))\n",
    "\n",
    "\n",
    "student_grade = calculate_grade(score)\n",
    "\n",
    "\n",
    "print(f\"The student's grade is: {student_grade}\")\n"
   ]
  },
  {
   "cell_type": "code",
   "execution_count": 33,
   "id": "0faf598c-1a8c-4b45-9199-63825139becb",
   "metadata": {},
   "outputs": [
    {
     "name": "stdin",
     "output_type": "stream",
     "text": [
      "Enter a string:  mariya is walking\n"
     ]
    },
    {
     "name": "stdout",
     "output_type": "stream",
     "text": [
      "The string is not empty.\n"
     ]
    }
   ],
   "source": [
    "def check_string_empty(input_string):\n",
    "    if input_string:\n",
    "        print(\"The string is not empty.\")\n",
    "    else:\n",
    "        print(\"The string is empty.\")\n",
    "\n",
    "\n",
    "user_input = input(\"Enter a string: \")\n",
    "\n",
    "\n",
    "check_string_empty(user_input)\n"
   ]
  },
  {
   "cell_type": "code",
   "execution_count": null,
   "id": "57945bd8-876c-4d6e-ac0e-36dc5582149f",
   "metadata": {},
   "outputs": [
    {
     "name": "stdin",
     "output_type": "stream",
     "text": [
      "Enter the length of the first side:  4\n",
      "Enter the length of the second side:  4\n",
      "Enter the length of the third side:  4\n"
     ]
    },
    {
     "name": "stdout",
     "output_type": "stream",
     "text": [
      "The triangle with sides 4.0, 4.0, 4.0 is a(n) Equilateral triangle.\n"
     ]
    }
   ],
   "source": [
    "def triangle_type(side1, side2, side3):\n",
    "    if side1 == side2 == side3:\n",
    "        return \"Equilateral\"\n",
    "    elif side1 == side2 or side1 == side3 or side2 == side3:\n",
    "        return \"Isosceles\"\n",
    "    else:\n",
    "        return \"Scalene\"\n",
    "\n",
    "\n",
    "side1 = float(input(\"Enter the length of the first side: \"))\n",
    "side2 = float(input(\"Enter the length of the second side: \"))\n",
    "side3 = float(input(\"Enter the length of the third side: \"))\n",
    "\n",
    "\n",
    "triangle = triangle_type(side1, side2, side3)\n",
    "\n",
    "print(f\"The triangle with sides {side1}, {side2}, {side3} is a(n) {triangle} triangle.\")\n"
   ]
  },
  {
   "cell_type": "code",
   "execution_count": 35,
   "id": "ac3f2ef2-2955-4678-8460-3459a1e1a71d",
   "metadata": {},
   "outputs": [
    {
     "name": "stdin",
     "output_type": "stream",
     "text": [
      "Enter a number (1-7) to determine the day of the week:  5\n"
     ]
    },
    {
     "name": "stdout",
     "output_type": "stream",
     "text": [
      "The day of the week corresponding to 5 is: Friday\n"
     ]
    }
   ],
   "source": [
    "def determine_day_of_week(number):\n",
    "    if number == 1:\n",
    "        return \"Monday\"\n",
    "    elif number == 2:\n",
    "        return \"Tuesday\"\n",
    "    elif number == 3:\n",
    "        return \"Wednesday\"\n",
    "    elif number == 4:\n",
    "        return \"Thursday\"\n",
    "    elif number == 5:\n",
    "        return \"Friday\"\n",
    "    elif number == 6:\n",
    "        return \"Saturday\"\n",
    "    elif number == 7:\n",
    "        return \"Sunday\"\n",
    "    else:\n",
    "        return \"Invalid input. Please enter a number between 1 and 7.\"\n",
    "\n",
    "\n",
    "user_number = int(input(\"Enter a number (1-7) to determine the day of the week: \"))\n",
    "\n",
    "\n",
    "day_of_week = determine_day_of_week(user_number)\n",
    "\n",
    "\n",
    "print(f\"The day of the week corresponding to {user_number} is: {day_of_week}\")\n"
   ]
  },
  {
   "cell_type": "code",
   "execution_count": 36,
   "id": "2f3088d9-f8f0-430d-afc3-e92b640e4215",
   "metadata": {},
   "outputs": [
    {
     "name": "stdin",
     "output_type": "stream",
     "text": [
      "Enter a year to check if it's a leap year:  2024\n"
     ]
    },
    {
     "name": "stdout",
     "output_type": "stream",
     "text": [
      "2024 is a leap year.\n"
     ]
    }
   ],
   "source": [
    "def is_leap_year(year):\n",
    "    if (year % 4 == 0 and year % 100 != 0) or (year % 400 == 0):\n",
    "        return True\n",
    "    else:\n",
    "        return False\n",
    "\n",
    "\n",
    "year = int(input(\"Enter a year to check if it's a leap year: \"))\n",
    "\n",
    "\n",
    "if is_leap_year(year):\n",
    "    print(f\"{year} is a leap year.\")\n",
    "else:\n",
    "    print(f\"{year} is not a leap year.\")\n"
   ]
  },
  {
   "cell_type": "code",
   "execution_count": 37,
   "id": "3656dde7-93be-4aa0-93f8-ed93676d70a8",
   "metadata": {},
   "outputs": [
    {
     "name": "stdin",
     "output_type": "stream",
     "text": [
      "Enter your age:  50\n"
     ]
    },
    {
     "name": "stdout",
     "output_type": "stream",
     "text": [
      "You are not eligible for a senior citizen discount.\n"
     ]
    }
   ],
   "source": [
    "def check_senior_discount(age):\n",
    "    if age >= 60:\n",
    "        return True\n",
    "    else:\n",
    "        return False\n",
    "\n",
    "\n",
    "age = int(input(\"Enter your age: \"))\n",
    "\n",
    "\n",
    "if check_senior_discount(age):\n",
    "    print(\"You are eligible for a senior citizen discount.\")\n",
    "else:\n",
    "    print(\"You are not eligible for a senior citizen discount.\")\n"
   ]
  },
  {
   "cell_type": "code",
   "execution_count": 38,
   "id": "28b9c876-2930-42d6-b63b-4a17552df9b9",
   "metadata": {},
   "outputs": [
    {
     "name": "stdin",
     "output_type": "stream",
     "text": [
      "Enter a character:  beena is working\n"
     ]
    },
    {
     "name": "stdout",
     "output_type": "stream",
     "text": [
      "The character 'beena is working' is Lowercase.\n"
     ]
    }
   ],
   "source": [
    "def categorize_character(char):\n",
    "    if char.islower():\n",
    "        category = \"Lowercase\"\n",
    "    elif char.isupper():\n",
    "        category = \"Uppercase\"\n",
    "    else:\n",
    "        category = \"Neither uppercase nor lowercase\"\n",
    "    return category\n",
    "\n",
    "character = input(\"Enter a character: \")\n",
    "\n",
    "\n",
    "category = categorize_character(character)\n",
    "\n",
    "print(f\"The character '{character}' is {category}.\")\n"
   ]
  },
  {
   "cell_type": "code",
   "execution_count": null,
   "id": "22c8abd7-a0f0-4669-984b-35817cc9a331",
   "metadata": {},
   "outputs": [],
   "source": [
    "Continue Statement:\n",
    "\n",
    "The continue statement is used to skip the rest of the current iteration of a loop (for loop or while loop) and continue with the next iteration.\n",
    "When encountered, the continue statement causes the program to skip the remaining code within the loop for the current iteration and move to the next iteration.\n",
    "It's typically used when you want to skip certain iterations of a loop based on a condition, but continue looping.\n",
    "Break Statement:\n",
    "\n",
    "The break statement is used to exit the loop prematurely when a certain condition is met, even if the loop's termination condition hasn't been reached.\n",
    "When encountered, the break statement terminates the loop immediately, and the program continues with the next statement after the loop.\n",
    "It's often used when you want to exit the loop early based on some condition."
   ]
  },
  {
   "cell_type": "code",
   "execution_count": null,
   "id": "1a760974-1db1-4077-bf37-5225ac67f696",
   "metadata": {},
   "outputs": [],
   "source": [
    "def is_prime(number):\n",
    "    if number <= 1:\n",
    "        return False  \n",
    "\n",
    "    # Check for factors from 2 to the square root of the number\n",
    "    for i in range(2, int(number**0.5) + 1):\n",
    "        if number % i == 0:\n",
    "            return False  # If a factor is found, the number is not prime\n",
    "    return True  # If no factor is found, the number is prime\n",
    "\n",
    "# Input from user\n",
    "num = int(input(\"Enter a number: \"))\n",
    "\n",
    "# Check if the number is prime\n",
    "if is_prime(num):\n",
    "    print(f\"{num} is a prime number.\")\n",
    "else:\n",
    "    print(f\"{num} is not a prime number.\")\n"
   ]
  },
  {
   "cell_type": "code",
   "execution_count": null,
   "id": "0d409f48-1037-4e62-9095-9f75d66f17c9",
   "metadata": {},
   "outputs": [],
   "source": []
  }
 ],
 "metadata": {
  "kernelspec": {
   "display_name": "Python 3 (ipykernel)",
   "language": "python",
   "name": "python3"
  },
  "language_info": {
   "codemirror_mode": {
    "name": "ipython",
    "version": 3
   },
   "file_extension": ".py",
   "mimetype": "text/x-python",
   "name": "python",
   "nbconvert_exporter": "python",
   "pygments_lexer": "ipython3",
   "version": "3.10.8"
  }
 },
 "nbformat": 4,
 "nbformat_minor": 5
}
