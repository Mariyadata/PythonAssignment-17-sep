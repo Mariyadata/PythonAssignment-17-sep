{
 "cells": [
  {
   "cell_type": "code",
   "execution_count": null,
   "id": "2a18fafb-bda0-40e5-9819-dba9c48bd3c8",
   "metadata": {},
   "outputs": [],
   "source": [
    "For Loop:\n",
    "\n",
    "A for loop is typically used when you know the number of iterations or when you want to iterate over a sequence (like a list, tuple, string, or range).\n",
    "It iterates over a sequence of elements one by one and executes the block of code inside the loop for each element.\n",
    "While Loop:\n",
    "\n",
    "A while loop is used when you want to repeat a block of code as long as a condition is true.\n",
    "It continues iterating until the condition becomes false."
   ]
  },
  {
   "cell_type": "code",
   "execution_count": null,
   "id": "c32961dd-b189-4960-8189-c0941d78f6fe",
   "metadata": {},
   "outputs": [],
   "source": [
    "Continue Statement:\n",
    "\n",
    "The continue statement is used to skip the rest of the current iteration of a loop (for loop or while loop) and continue with the next iteration.\n",
    "When encountered, the continue statement causes the program to skip the remaining code within the loop for the current iteration and move to the next iteration.\n",
    "It's typically used when you want to skip certain iterations of a loop based on a condition, but continue looping.\n",
    "Break Statement:\n",
    "\n",
    "The break statement is used to exit the loop prematurely when a certain condition is met, even if the loop's termination condition hasn't been reached.\n",
    "When encountered, the break statement terminates the loop immediately, and the program continues with the next statement after the loop.\n",
    "It's often used when you want to exit the loop early based on some condition."
   ]
  },
  {
   "cell_type": "code",
   "execution_count": null,
   "id": "5844b7e3-d849-4584-923b-c27ea41c19a3",
   "metadata": {},
   "outputs": [],
   "source": [
    "The filter() function in Python is used to filter elements from an iterable (such as a list) based on a specified function. However, filter() itself doesn't use if-else statements directly. Instead, you provide a function that returns True or False to determine whether each element should be included in the filtered result."
   ]
  },
  {
   "cell_type": "code",
   "execution_count": null,
   "id": "0085ef53-e35f-4c3b-a6d8-1bcdb848234b",
   "metadata": {},
   "outputs": [],
   "source": [
    "map() function:\n",
    "map() applies a given function to each item of an iterable (like a list, tuple, etc.) and returns an iterator that yields the results.\n",
    "The syntax of map() is map(function, iterable).\n",
    "map() is generally more memory-efficient than list comprehensions, especially for large datasets, because it produces an iterator rather than creating a new list.\n",
    "map() is particularly useful when you want to apply the same function to all elements of a sequence.\n",
    "List comprehension:\n",
    "List comprehensions provide a concise way to create lists. They perform a similar function to map(), but their syntax is more readable and compact.\n",
    "List comprehensions can also include conditional statements for filtering elements.\n",
    "When to choose one over the other:\n",
    "\n",
    "Use map() when you want to apply a function to every element in an iterable, especially if you are dealing with large datasets and want to save memory.\n",
    "Use list comprehensions when you need to create a new list by applying an expression to each element of an iterable. List comprehensions are more concise and readable, especially when the logic involves filtering elements based on conditions.\n",
    "In many cases, it's a matter of personal preference or code readability which one you choose. However, if memory efficiency is a concern, map() might be a better choice."
   ]
  },
  {
   "cell_type": "code",
   "execution_count": null,
   "id": "39b21f46-67af-4e90-a275-e8b7c8fe1899",
   "metadata": {},
   "outputs": [],
   "source": [
    "You can use the map() function with multiple iterables (lists in this case) and a custom function\n",
    "to apply the function to elements of these lists simultaneously. However, \n",
    "map() only applies the function to the corresponding elements of each iterable. \n",
    "If the lists are of different lengths, map() will stop when the shortest iterable is exhausted."
   ]
  },
  {
   "cell_type": "code",
   "execution_count": null,
   "id": "fcdea831-8446-4aa7-b869-e459395ff46f",
   "metadata": {},
   "outputs": [],
   "source": [
    "The reduce() function in Python is used to apply a function to an iterable (such as a list) cumulatively to reduce it to a single value. It's part of the functools module, so you need to import this module to use it.\n",
    "\n",
    "The basic usage of the reduce() function involves passing a function and an iterable to reduce it to a single value by applying the function cumulatively to the elements of the iterable from left to right.\n"
   ]
  },
  {
   "cell_type": "code",
   "execution_count": null,
   "id": "ea79ba97-5710-43b5-8016-e01e0178db70",
   "metadata": {},
   "outputs": [],
   "source": [
    "The filter() function in Python is used to filter elements from an iterable based on a specified condition. It takes two arguments: a function that defines the filtering condition and an iterable from which elements are filtered.\n",
    "\n",
    "The purpose of the filter() function is to create a new iterator containing only the elements from the original iterable that satisfy the specified condition."
   ]
  },
  {
   "cell_type": "code",
   "execution_count": null,
   "id": "f8c27379-780e-474a-a497-c778327c8cbc",
   "metadata": {},
   "outputs": [],
   "source": [
    "Recursion is a programming technique where a function calls itself in order to solve a problem. In recursive functions, the problem is divided into smaller subproblems that are similar to the original problem, and the function calls itself with these smaller subproblems until a base case is reached. The base case is a condition that stops the recursion by providing a straightforward solution without further recursive calls. Recursion is particularly useful for solving problems that can be broken down into simpler, similar subproblems, such as tree traversal, factorial calculation, and Fibonacci sequence generation.\n",
    "In contrast, iteration is a process of repeating a set of instructions iteratively until a specific condition is met. In iteration, loops (such as for loops and while loops) are used to repeatedly execute a block of code until a termination condition is satisfied. Iteration is often preferred when the problem can be solved by repeating a fixed set of instructions without the need for function calls. It's especially useful when the number of repetitions is known in advance or when the problem can be solved by traversing through a collection of elements"
   ]
  },
  {
   "cell_type": "code",
   "execution_count": null,
   "id": "a22d8d96-cec0-4afe-8fd9-5f441d271f4d",
   "metadata": {},
   "outputs": [],
   "source": [
    "Base Case: Ensure that the recursive function has one or more base cases that specify conditions under which the function should terminate and not call itself again. These base cases should be reached after a finite number of recursive calls.\n",
    "\n",
    "Progress Toward Base Case: Ensure that each recursive call moves the function closer to the base case. This ensures that the recursion will eventually terminate.\n",
    "\n",
    "Input Constraints: Validate input parameters to the recursive function to ensure they meet certain constraints. For example, you might check that the input is within a specific range or that it meets certain conditions necessary for the recursion to terminate.\n",
    "\n",
    "Limit Recursion Depth: In some cases, you may limit the depth of recursion by imposing a maximum recursion depth. This can be done by either setting a maximum recursion depth manually or using language-specific mechanisms provided by the programming language.\n",
    "\n",
    "Iterative Alternatives: Consider whether the problem can be solved using iterative approaches instead of recursion. In many cases, recursion can be replaced with iterative algorithms, which may be more efficient and have lower risk of stack overflow."
   ]
  },
  {
   "cell_type": "code",
   "execution_count": null,
   "id": "fc6bb5c2-6a08-4903-9aba-8237d47fffde",
   "metadata": {},
   "outputs": [],
   "source": [
    "In Python, a function is a named block of code that performs a specific task or set of tasks. Functions are used to organize code into logical units, making it easier to understand, reuse, and maintain. They help in modularizing code by breaking it into smaller, manageable pieces, which promotes code reusability and readability.\n",
    "\n",
    "Functions in Python are defined using the def keyword followed by the function name and a block of code containing the function's logic. Functions can take parameters (inputs) and optionally return a value as output.\n",
    "Functions serve several purposes in Python:\n",
    "\n",
    "Modularity: Functions help break down a program into smaller, more manageable pieces of code. Each function can perform a specific task, making the code easier to understand and maintain.\n",
    "\n",
    "Reuse: Functions allow you to write code once and reuse it multiple times throughout your program. This reduces redundancy and promotes code efficiency.\n",
    "\n",
    "Abstraction: Functions can encapsulate complex operations or algorithms behind a simple interface. This allows you to use functions without needing to understand the details of how they work internally.\n",
    "\n",
    "Readability: By giving descriptive names to functions, you can make your code more self-explanatory and easier to understand for other developers.\n",
    "\n",
    "Testing: Functions make it easier to test individual components of your code in isolation, which facilitates debugging and ensures code correctness."
   ]
  },
  {
   "cell_type": "code",
   "execution_count": null,
   "id": "b2e1f5bb-d1f6-44a8-a604-9b79c56ce32b",
   "metadata": {},
   "outputs": [],
   "source": [
    "In Python, you can define a function using the def keyword followed by the function name, parentheses containing any parameters (if applicable), and a colon. The function body is then indented and contains the code that defines the functionality of the function. "
   ]
  },
  {
   "cell_type": "code",
   "execution_count": null,
   "id": "a726e749-99aa-438b-8e81-96b00d01a202",
   "metadata": {},
   "outputs": [],
   "source": [
    "Function Definition:\n",
    "\n",
    "A function definition is where you define the behavior of a function. It involves specifying the name of the function, any parameters it may accept, and the code block that defines what the function does.\n",
    "When you define a function, you're essentially creating a blueprint or a template for the behavior of that function. The code inside the function definition is not executed until the function is called.\n",
    "You define a function using the def keyword followed by the function name, parentheses containing any parameters, and a colon.\n",
    "Function Call:\n",
    "\n",
    "A function call is when you actually invoke or execute a function that has been defined. It involves using the function name followed by parentheses containing any required arguments (if the function accepts parameters).\n",
    "When you call a function, the code inside the function definition is executed, and any specified behavior is carried out.\n",
    "Function calls can be made from anywhere in your code, including from within other functions, loops, or conditional statements."
   ]
  },
  {
   "cell_type": "code",
   "execution_count": null,
   "id": "896bd2e1-9a6e-4bda-bbec-d41c95558ff7",
   "metadata": {},
   "outputs": [],
   "source": [
    "A function signature, also known as a function prototype, refers to the declaration of a function that specifies its name, parameters (including their types), and return type. It provides a summary of the function's interface without including its implementation details. Function signatures are primarily used in statically typed languages to declare the structure of a function before its actual implementation.Function Name: The name by which the function will be called in the code.\n",
    "Parameter Types: The types of the parameters that the function accepts. This includes both the data type and, if applicable, the names of the parameters.\n",
    "Return Type: The data type of the value returned by the function after execution.\n"
   ]
  },
  {
   "cell_type": "code",
   "execution_count": null,
   "id": "239b3aa9-8072-4542-b114-90545ee3bbb5",
   "metadata": {},
   "outputs": [],
   "source": [
    "Formal Parameters:\n",
    "\n",
    "Formal parameters are the variables declared in the function definition that represent the values passed to the function when it is called. These are placeholders for the actual values that will be provided when the function is invoked.\n",
    "Formal parameters are defined within the parentheses of the function header, following the function name, and are separated by commas if there are multiple parameters.\n",
    "They are used within the function's code block to perform operations or calculations.\n",
    "Formal parameters are local variables within the function and exist only within the function's scope.\n",
    "Actual Arguments:\n",
    "\n",
    "Actual arguments, also known as arguments or parameters, are the values passed to the function when it is called. They are the concrete values or expressions that are substituted for the formal parameters of the function.\n",
    "Actual arguments can be constants, variables, expressions, or even function calls that produce a value.\n",
    "They are provided within the parentheses following the function name during the function call.\n",
    "Actual arguments are used to supply input data to the function and determine its behavior for a particular invocation."
   ]
  },
  {
   "cell_type": "code",
   "execution_count": null,
   "id": "533843ae-0d5b-4924-8668-1fed73622890",
   "metadata": {},
   "outputs": [],
   "source": [
    "*args (Arbitrary Positional Arguments):\n",
    "\n",
    "The *args syntax in a function parameter list allows you to pass a variable number of positional arguments to the function.\n",
    "It collects any additional positional arguments provided during the function call and packs them into a tuple.\n",
    "This allows functions to accept an arbitrary number of arguments without having to specify them individually in the function definition.\n",
    "**kwargs (Arbitrary Keyword Arguments):\n",
    "\n",
    "The **kwargs syntax in a function parameter list allows you to pass a variable number of keyword arguments (key-value pairs) to the function.\n",
    "It collects any additional keyword arguments provided during the function call and packs them into a dictionary.\n",
    "This allows functions to accept an arbitrary number of keyword arguments without having to specify them individually in the function definition."
   ]
  },
  {
   "cell_type": "code",
   "execution_count": null,
   "id": "b70e2b05-5dd2-4dbb-87f8-d360c11fd700",
   "metadata": {},
   "outputs": [],
   "source": [
    "Here's how the return statement works:\n",
    "\n",
    "When a return statement is encountered within a function, the function execution is terminated immediately, and control returns to the point in the program where the function was called.\n",
    "If the return statement includes an expression, that expression is evaluated, and the resulting value is returned as the result of the function call.\n",
    "If the return statement is used without any expression, the function returns None by default.\n"
   ]
  },
  {
   "cell_type": "code",
   "execution_count": null,
   "id": "24816e58-49bd-485e-90d2-847a5410a8e2",
   "metadata": {},
   "outputs": [],
   "source": [
    "Local Variables:\n",
    "\n",
    "Local variables are defined within a function and are accessible only within that function.\n",
    "They are created when the function is called and destroyed when the function exits.\n",
    "Local variables cannot be accessed from outside the function in which they are defined.\n",
    "Global Variables:\n",
    "\n",
    "Global variables are defined outside of any function and are accessible throughout the entire program, including inside functions.\n",
    "They are created when the program starts and destroyed when the program terminates.\n",
    "Local vs. Global Variables:\n",
    "\n",
    "Local variables take precedence over global variables with the same name within the same scope. If a local variable has the same name as a global variable, the local variable will be used within that scope.\n",
    "If a variable is referenced within a function but not defined in that function's scope, Python will search for it in the outer scope (enclosing functions and global scope) until it finds it or reaches the global scope."
   ]
  },
  {
   "cell_type": "code",
   "execution_count": null,
   "id": "94d3b772-aa9f-4e44-8417-b6df0ab3bfaa",
   "metadata": {},
   "outputs": [],
   "source": [
    "Using the global Keyword:\n",
    "\n",
    "If you want to modify a global variable from within a function, you need to use the global keyword to declare the variable as global.\n",
    "Without Using the global Keyword:\n",
    "\n",
    "If you only want to access the value of a global variable without modifying it, you can directly reference the variable name within the function."
   ]
  },
  {
   "cell_type": "code",
   "execution_count": null,
   "id": "623f5daa-78ec-4aab-80c1-5b319b5f6b4d",
   "metadata": {},
   "outputs": [],
   "source": [
    "In Python, lambda functions, also known as anonymous functions or lambda expressions, are small, anonymous functions defined using the lambda keyword. They are often used when you need a simple function for a short period of time and don't want to define a full-fledged function using the def keyword.\n",
    "Anonymous: Lambda functions are anonymous because they do not have a name. They are defined inline wherever they are needed and are not bound to any identifier.\n",
    "\n",
    "Syntax: The syntax of a lambda function is lambda arguments: expression. It consists of the lambda keyword, followed by a comma-separated list of parameters (arguments), a colon :, and an expression that is evaluated and returned as the result of the function.\n",
    "\n",
    "Single Expression: Lambda functions can only contain a single expression. This expression is evaluated and returned as the result of the function."
   ]
  },
  {
   "cell_type": "code",
   "execution_count": null,
   "id": "3ea70479-35ee-4ab4-b620-c67eba6e3e56",
   "metadata": {},
   "outputs": [],
   "source": [
    "len() Function:\n",
    "\n",
    "The len() function is used to determine the length or size of a collection, such as a list, tuple, string, or dictionary.\n",
    "It returns the number of elements in the collection.\n",
    "max() Function:\n",
    "\n",
    "The max() function is used to find the maximum value from a collection or a series of values.\n",
    "It takes one or more arguments and returns the largest of those values.\n",
    "min() Function:\n",
    "\n",
    "The min() function is used to find the minimum value from a collection or a series of values.\n",
    "It takes one or more arguments and returns the smallest of those values."
   ]
  },
  {
   "cell_type": "code",
   "execution_count": null,
   "id": "54ebdf2a-d06f-40c8-9639-7f36b095c915",
   "metadata": {},
   "outputs": [],
   "source": [
    "In Python, the filter() function is used to filter elements from an iterable (such as a list) based on a specified condition. It returns an iterator containing only the elements for which the given function returns True.\n",
    "function: A function that takes a single argument and returns a Boolean value (True or False). This function is applied to each element of the iterable.\n",
    "iterable: An iterable (e.g., a list, tuple, set) from which elements are filtered.\n",
    "The filter() function applies the specified function to each element of the iterable. If the function returns True for an element, that element is included in the resulting iterator. If the function returns False, the element is excluded."
   ]
  },
  {
   "cell_type": "code",
   "execution_count": null,
   "id": "d82649bf-3934-4813-b1a3-a52bd07443f4",
   "metadata": {},
   "outputs": [],
   "source": [
    "Docstrings in Python functions serve the purpose of providing documentation or metadata about the function's purpose, usage, parameters, return values, and other relevant information. They are used to document the functionality of the function so that users (including yourself and others) can understand how to use the function correctly.\n",
    "\n",
    "Docstrings are enclosed in triple quotes (\"\"\") and are placed immediately after the function or method definition. They can span multiple lines and are typically written in a human-readable format. Docstrings can be accessed using the __doc__ attribute of the function or by using the help() function in the Python interpreter."
   ]
  },
  {
   "cell_type": "code",
   "execution_count": null,
   "id": "a332594b-473f-4e6f-947f-b5d73a145250",
   "metadata": {},
   "outputs": [],
   "source": [
    "Use descriptive names: Choose names that clearly describe the purpose or functionality of the function or variable. This makes the code more understandable to others and your future self.\n",
    "\n",
    "Follow naming conventions:\n",
    "\n",
    "Snake Case: Use snake_case for variable names, where words are separated by underscores (_). For example: my_variable, user_name, calculate_sum.\n",
    "Lowercase: Use all lowercase letters for variable names, as per Python convention.\n",
    "Lowercase with underscores: Use lowercase letters and underscores for function names, variable names, and module names.\n",
    "Use meaningful identifiers: Avoid using single-letter variable names (e.g., x, y) unless they represent loop counters or indices. Instead, use descriptive names that convey the purpose of the variable.\n",
    "\n",
    "Be consistent: Maintain consistency in naming conventions throughout your codebase. Choose a naming style and stick to it across all functions and variables.\n",
    "\n",
    "Avoid reserved keywords: Do not use reserved keywords or built-in functions as variable or function names to prevent conflicts and confusion. For example, do not use list, dict, str, etc., as variable names.\n",
    "\n",
    "Use verbs for functions: Use action verbs to name functions, indicating what the function does. For example, calculate_sum, find_max, generate_report.\n",
    "\n",
    "Use nouns for variables: Use nouns or noun phrases for variable names, describing what the variable represents or stores. For example, customer_name, total_amount, employee_list.\n",
    "\n",
    "Avoid abbreviations: Prefer full, descriptive words over abbreviations. However, common abbreviations that are widely understood and add clarity to the code can be used.\n",
    "\n",
    "Consider PEP 8 guidelines: Follow the recommendations provided in PEP 8, the official style guide for Python code. It provides guidelines for naming conventions, indentation, spacing, and other aspects of Python code.\n",
    "\n",
    "Document complex or non-obvious names: If a name's purpose or usage is not immediately clear, provide additional comments or documentation to explain its meaning or context."
   ]
  }
 ],
 "metadata": {
  "kernelspec": {
   "display_name": "Python 3 (ipykernel)",
   "language": "python",
   "name": "python3"
  },
  "language_info": {
   "codemirror_mode": {
    "name": "ipython",
    "version": 3
   },
   "file_extension": ".py",
   "mimetype": "text/x-python",
   "name": "python",
   "nbconvert_exporter": "python",
   "pygments_lexer": "ipython3",
   "version": "3.10.8"
  }
 },
 "nbformat": 4,
 "nbformat_minor": 5
}
